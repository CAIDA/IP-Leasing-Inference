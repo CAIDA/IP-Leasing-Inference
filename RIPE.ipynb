{
 "cells": [
  {
   "cell_type": "markdown",
   "id": "8fdb896a-2529-4158-8f44-37a50ab40f6a",
   "metadata": {},
   "source": [
    "This software is Copyright © 2024 The Regents of the University of California. All Rights Reserved. Permission to copy, modify, and distribute this software and its documentation for educational, research and non-profit purposes, without fee, and without a written agreement is hereby granted, provided that the above copyright notice, this paragraph and the following three paragraphs appear in all copies. Permission to make commercial use of this software may be obtained by contacting:\n",
    "\n",
    "Office of Innovation and Commercialization\n",
    "\n",
    "9500 Gilman Drive, Mail Code 0910\n",
    "\n",
    "University of California\n",
    "\n",
    "La Jolla, CA 92093-0910\n",
    "\n",
    "(858) 534-5815\n",
    "\n",
    "invent@ucsd.edu\n",
    "\n",
    "This software program and documentation are copyrighted by The Regents of the University of California. The software program and documentation are supplied “as is”, without any accompanying services from The Regents. The Regents does not warrant that the operation of the program will be uninterrupted or error-free. The end-user understands that the program was developed for research purposes and is advised not to rely exclusively on the program for any reason.\n",
    "\n",
    "IN NO EVENT SHALL THE UNIVERSITY OF CALIFORNIA BE LIABLE TO ANY PARTY FOR DIRECT, INDIRECT, SPECIAL, INCIDENTAL, OR CONSEQUENTIAL DAMAGES, INCLUDING LOST PROFITS, ARISING OUT OF THE USE OF THIS SOFTWARE AND ITS DOCUMENTATION, EVEN IF THE UNIVERSITY OF CALIFORNIA HAS BEEN ADVISED OF THE POSSIBILITY OF SUCH DAMAGE. THE UNIVERSITY OF CALIFORNIA SPECIFICALLY DISCLAIMS ANY WARRANTIES, INCLUDING, BUT NOT LIMITED TO, THE IMPLIED WARRANTIES OF MERCHANTABILITY AND FITNESS FOR A PARTICULAR PURPOSE. THE SOFTWARE PROVIDED HEREUNDER IS ON AN “AS IS” BASIS, AND THE UNIVERSITY OF CALIFORNIA HAS NO OBLIGATIONS TO PROVIDE MAINTENANCE, SUPPORT, UPDATES, ENHANCEMENTS, OR MODIFICATIONS."
   ]
  },
  {
   "cell_type": "code",
   "execution_count": null,
   "id": "f5037bc5-e1a4-4fff-9166-b77ac81c0c60",
   "metadata": {},
   "outputs": [],
   "source": [
    "import pandas as pd\n",
    "import gzip\n",
    "from collections import OrderedDict, defaultdict\n",
    "import ipaddress\n",
    "import math\n",
    "import radix\n",
    "import re\n",
    "import numpy as np\n",
    "import matplotlib.pyplot as plt\n",
    "import bz2\n",
    "from fuzzywuzzy import fuzz\n",
    "import seaborn as sns\n",
    "from sklearn.metrics import confusion_matrix, accuracy_score, precision_score, recall_score"
   ]
  },
  {
   "cell_type": "code",
   "execution_count": null,
   "id": "81cc6bc7-8fb9-400e-bbd3-ba69cb8dc050",
   "metadata": {},
   "outputs": [],
   "source": [
    "pd.set_option('display.max_columns', 500)"
   ]
  },
  {
   "cell_type": "code",
   "execution_count": null,
   "id": "d8e6c41a-f170-41ab-ae7f-4409f561b031",
   "metadata": {},
   "outputs": [],
   "source": [
    "split = re.compile(r'(.+?):\\s*(.*)')\n",
    "\n",
    "class Entry(OrderedDict):\n",
    "    def __repr__(self):\n",
    "        output = []\n",
    "        for key, value in self.items():\n",
    "            output.append('{}:\\t{}'.format(key, value))\n",
    "        return '\\n'.join(output)\n",
    "    \n",
    "    @property\n",
    "    def date(self):\n",
    "        # self refers to the object, which in this case is a subclass of dict\n",
    "        # the .get method for dict objects retrieves the value if the key exists,\n",
    "        # otherwise it returns the default value\n",
    "        changed = self.get('changed', None)\n",
    "        if changed is not None:\n",
    "            try:\n",
    "                date = changed.split()[1]\n",
    "            except IndexError:\n",
    "                return '17000101'\n",
    "        else:\n",
    "            try:\n",
    "                date = self['last-modified'].replace('-', '')\n",
    "            except KeyError:\n",
    "                return '16000101'\n",
    "        return date\n",
    "    \n",
    "    \n",
    "def parse_whois(filename):\n",
    "    with gzip.open(filename, 'rt', encoding='latin-1') as f:\n",
    "        items = []  # list to hold whois items\n",
    "        item = Entry()  # an object to hold an individual entry\n",
    "\n",
    "        # Iterate over the lines in the whois file\n",
    "        for line in f:\n",
    "            ol = line  # original version of the line\n",
    "            line = line.strip()  # get rid of whitespace at beginning and end of the line\n",
    "\n",
    "            # If the original line is not just a newline character,\n",
    "            # and the line is only whitespace or starts with a comment character,\n",
    "            # skip the line\n",
    "            if ol != '\\n' and (not line or line[0] == '#'):\n",
    "                continue\n",
    "\n",
    "            # If the line is not just whitespace\n",
    "            if line:\n",
    "                \n",
    "                # if original line start with whitespace, append it to previous value\n",
    "                if re.match(r'^[^a-zA-Z0-9]', ol):\n",
    "                    try:\n",
    "                        item[k] += '\\n' + line\n",
    "                        continue\n",
    "                    except:\n",
    "                        # print(item)\n",
    "                        continue\n",
    "\n",
    "                \n",
    "                # See if the line matches the regex\n",
    "                m = split.match(line)\n",
    "                # If it does\n",
    "                if m:\n",
    "                    # There are 2 possible matching groups, so assign them to k and v\n",
    "                    k, v = m.groups()\n",
    "                    \n",
    "                    # If the key is already in the item, concatenate the value to the existing value\n",
    "                    if k in item and k != 'origin':\n",
    "                        try:\n",
    "                            item[k] += '\\n' + v\n",
    "                        except:\n",
    "                            pass\n",
    "                            # print(item)\n",
    "                    # When the key does not yet exist in the item, add the key and value\n",
    "                    else:\n",
    "                        try:\n",
    "                            item[k] = v\n",
    "                        except:\n",
    "                            pass\n",
    "                            # print(item)\n",
    "                # If it does not match\n",
    "                else:\n",
    "                    # Add the value to the previous key in the item\n",
    "                    # This is a value with newline breaks\n",
    "                    try:\n",
    "                        item[k] += '\\n' + line\n",
    "                    except:\n",
    "                        item[k] = line\n",
    "\n",
    "            # If the line is just a newline break, finish the current item, and start a new one\n",
    "            else:\n",
    "                if item:\n",
    "                    if set(['organisation', 'inetnum', 'aut-num']) & set(item.keys()):\n",
    "                        items.append(item)  # Add item to list of items\n",
    "                    item = Entry()  # Start new item\n",
    "    return items"
   ]
  },
  {
   "cell_type": "code",
   "execution_count": null,
   "id": "4b31fa87-7004-4005-a29e-f5984ee269a2",
   "metadata": {},
   "outputs": [],
   "source": [
    "def build_as_rel():\n",
    "    path = # Path to your AS Relationship dataset\n",
    "    as_rel = defaultdict(lambda: defaultdict(set))\n",
    "    with bz2.open(path, 'rt') as file:\n",
    "        for line in file:\n",
    "            if line.startswith('#'):\n",
    "                continue\n",
    "            data = line.strip().split('|')\n",
    "            AS1 = 'AS'+data[0]\n",
    "            AS2 = 'AS'+data[1]\n",
    "            rel = data[2]\n",
    "            if rel == '0':\n",
    "                as_rel[AS1]['peer'].add(AS2)\n",
    "                as_rel[AS2]['peer'].add(AS1)\n",
    "            elif rel == '1':\n",
    "                as_rel[AS1]['provider'].add(AS2)\n",
    "                as_rel[AS2]['customer'].add(AS1)\n",
    "            elif rel == '-1':\n",
    "                as_rel[AS1]['customer'].add(AS2)\n",
    "                as_rel[AS2]['provider'].add(AS1)\n",
    "    return as_rel\n",
    "\n",
    "\n",
    "def check_asrel(left, right): # left has to be customer of right\n",
    "    try:\n",
    "        for i in left:\n",
    "            for j in right:\n",
    "                if i in as_rel[j]['customer']:\n",
    "                    return True\n",
    "        return False\n",
    "    except:\n",
    "        return False\n",
    "\n",
    "def build_as2org():\n",
    "    path = # Path to your AS Organizations dataset\n",
    "    as2org = gzip.open(path)\n",
    "    mapping = {}\n",
    "    companyname = {}\n",
    "    for line in as2org:\n",
    "        l = line.decode().strip('\\n').split('|')\n",
    "        asn = None\n",
    "        if l[0].isdigit():\n",
    "            asn = 'AS'+str(l[0])\n",
    "            mapping[asn] = l[3]\n",
    "        elif len(l) == 5:\n",
    "            companyname[l[0]] = l[2]\n",
    "    for i in mapping:\n",
    "        orgname = companyname[mapping[i]]\n",
    "        mapping[i] = orgname\n",
    "    return mapping\n",
    "\n",
    "def check_as2org(left, right):\n",
    "    try:\n",
    "        for i in left:\n",
    "            for j in right:\n",
    "                if as2org[i] == as2org[j]:\n",
    "                    return True\n",
    "        return False\n",
    "    except:\n",
    "        return False\n",
    "\n",
    "as_rel = build_as_rel()\n",
    "as2org = build_as2org()\n",
    "\n",
    "def to_org(asn):\n",
    "    try:\n",
    "        return as2org[asn]\n",
    "    except:\n",
    "        return None"
   ]
  },
  {
   "cell_type": "markdown",
   "id": "ccf8bb48-75f6-4d8b-88b6-1bf92ab36fed",
   "metadata": {},
   "source": [
    "# Load RIPE DB"
   ]
  },
  {
   "cell_type": "code",
   "execution_count": null,
   "id": "0cf472e0-b0ec-46e4-b644-a892c47d4b52",
   "metadata": {},
   "outputs": [],
   "source": [
    "ripe = parse_whois() # Path to your RIPE WHOIS database file\n",
    "len(ripe)"
   ]
  },
  {
   "cell_type": "code",
   "execution_count": null,
   "id": "6a544ff7-debe-4049-a504-7c5030b0cb94",
   "metadata": {},
   "outputs": [],
   "source": [
    "ripeaddr = pd.DataFrame([i for i in ripe if 'inetnum' in i])"
   ]
  },
  {
   "cell_type": "code",
   "execution_count": null,
   "id": "d7deb16b-4f09-41f9-b7a5-865604e25de2",
   "metadata": {},
   "outputs": [],
   "source": [
    "ripeorg = pd.DataFrame([i for i in ripe if 'organisation' in i])"
   ]
  },
  {
   "cell_type": "code",
   "execution_count": null,
   "id": "efa8b7cf-027c-4995-a2d8-9598bf4eea69",
   "metadata": {},
   "outputs": [],
   "source": [
    "ripeorg['organisation'] = ripeorg['organisation'].apply(lambda x: x.upper())"
   ]
  },
  {
   "cell_type": "code",
   "execution_count": null,
   "id": "9e691d13-b3db-4e33-8490-d1383aa889b4",
   "metadata": {},
   "outputs": [],
   "source": [
    "ripeas = pd.DataFrame([i for i in ripe if 'aut-num' in i])"
   ]
  },
  {
   "cell_type": "code",
   "execution_count": null,
   "id": "2d8ce9de-44a6-4d05-a4cf-f81c6038887f",
   "metadata": {},
   "outputs": [],
   "source": [
    "print(len(ripeaddr), len(ripeorg), len(ripeas))"
   ]
  },
  {
   "cell_type": "code",
   "execution_count": null,
   "id": "295ebcb4-8912-46ff-b2a4-d92677606ab4",
   "metadata": {
    "scrolled": true
   },
   "outputs": [],
   "source": [
    "ripeaddr"
   ]
  },
  {
   "cell_type": "markdown",
   "id": "229de271-04f3-4fd6-93bb-b5dd24dab6f3",
   "metadata": {},
   "source": [
    "# Prep for inetnum tree construction"
   ]
  },
  {
   "cell_type": "code",
   "execution_count": null,
   "id": "b642fcdb-ea8f-4008-9f53-df8c9bf75dad",
   "metadata": {},
   "outputs": [],
   "source": [
    "def range_to_pfx(inetnum):\n",
    "    start, end = inetnum.strip().split('-')\n",
    "    start_ip = ipaddress.IPv4Address(start.strip())\n",
    "    end_ip = ipaddress.IPv4Address(end.strip())\n",
    "    if int(end_ip) - int(start_ip) + 1 < 256:\n",
    "        return None\n",
    "    cidr_blocks = ipaddress.summarize_address_range(start_ip, end_ip)\n",
    "    res = []\n",
    "    for i in cidr_blocks:\n",
    "        if i.prefixlen > 24:\n",
    "            return None\n",
    "        res.append(str(i))\n",
    "    return res"
   ]
  },
  {
   "cell_type": "code",
   "execution_count": null,
   "id": "b87dbc39-9e2f-4737-8578-c660b095763c",
   "metadata": {},
   "outputs": [],
   "source": [
    "ripeaddr['prefix'] = ripeaddr['inetnum'].apply(range_to_pfx)"
   ]
  },
  {
   "cell_type": "code",
   "execution_count": null,
   "id": "7c823d93-a890-4e07-a7ef-bd3bb7bc74a9",
   "metadata": {},
   "outputs": [],
   "source": [
    "tree_candidate = ripeaddr.dropna(subset=['prefix'])"
   ]
  },
  {
   "cell_type": "code",
   "execution_count": null,
   "id": "56271d6c-04c8-402a-ab08-f787e939fed1",
   "metadata": {},
   "outputs": [],
   "source": [
    "len(tree_candidate)"
   ]
  },
  {
   "cell_type": "code",
   "execution_count": null,
   "id": "7573387d-7cbf-4642-afbc-5d7a65a29a44",
   "metadata": {},
   "outputs": [],
   "source": [
    "len(ripeaddr) - len(tree_candidate)"
   ]
  },
  {
   "cell_type": "code",
   "execution_count": null,
   "id": "8ae75aa5-0a41-4b70-9fd9-1eeb44d96c80",
   "metadata": {},
   "outputs": [],
   "source": [
    "tree_candidate['blocks_in_chunk'] = tree_candidate['prefix'].apply(len)"
   ]
  },
  {
   "cell_type": "code",
   "execution_count": null,
   "id": "7a539af2-a16c-4d7e-bf7f-0542f4a1283b",
   "metadata": {},
   "outputs": [],
   "source": [
    "tree = tree_candidate.explode('prefix')"
   ]
  },
  {
   "cell_type": "code",
   "execution_count": null,
   "id": "31fadabb-1ea3-4bc3-b338-92cebb5992a4",
   "metadata": {
    "scrolled": true
   },
   "outputs": [],
   "source": [
    "tree"
   ]
  },
  {
   "cell_type": "code",
   "execution_count": null,
   "id": "33adf67a-34ba-4647-866c-c66ccb077b5f",
   "metadata": {},
   "outputs": [],
   "source": [
    "rtree = radix.Radix()\n",
    "for i in tree.prefix:\n",
    "    rtree.add(i)"
   ]
  },
  {
   "cell_type": "code",
   "execution_count": null,
   "id": "83182611-09fc-436d-a846-761ac8064578",
   "metadata": {},
   "outputs": [],
   "source": [
    "tree.prefix.count()"
   ]
  },
  {
   "cell_type": "code",
   "execution_count": null,
   "id": "7c3edbe8-673e-45e2-8e38-1246323f5c21",
   "metadata": {},
   "outputs": [],
   "source": [
    "tree.prefix.nunique()"
   ]
  },
  {
   "cell_type": "code",
   "execution_count": null,
   "id": "58184581-d7bc-4b02-9b2c-6cd46d7119c8",
   "metadata": {
    "scrolled": true
   },
   "outputs": [],
   "source": [
    "tree.status.value_counts()"
   ]
  },
  {
   "cell_type": "markdown",
   "id": "76db34f3-6c66-4da1-9aa1-f638f1d1fd10",
   "metadata": {},
   "source": [
    "# match allocated PA to ASN and orgs"
   ]
  },
  {
   "cell_type": "code",
   "execution_count": null,
   "id": "f010aa0f-79aa-4f9d-a9a3-a293fc147b78",
   "metadata": {},
   "outputs": [],
   "source": [
    "allocated = tree[tree.status == 'ALLOCATED PA']"
   ]
  },
  {
   "cell_type": "code",
   "execution_count": null,
   "id": "41a012ca-1a5e-499e-b4a4-e4e85e8a318e",
   "metadata": {},
   "outputs": [],
   "source": [
    "allocated['org'] = allocated['org'].apply(lambda x: x.upper())"
   ]
  },
  {
   "cell_type": "code",
   "execution_count": null,
   "id": "97048ce6-b118-4bb2-95cc-1a1fb2799a4c",
   "metadata": {},
   "outputs": [],
   "source": [
    "allocated = allocated.merge(ripeorg[['organisation', 'org-name']], left_on='org', right_on='organisation', how='left')"
   ]
  },
  {
   "cell_type": "code",
   "execution_count": null,
   "id": "81440b40-ec1d-4466-85f2-bef53c8d9ff9",
   "metadata": {},
   "outputs": [],
   "source": [
    "ripeasgroups1 = ripeas.groupby('org').agg({'aut-num':list}).reset_index()"
   ]
  },
  {
   "cell_type": "code",
   "execution_count": null,
   "id": "df4deeb0-7390-48c2-96ad-ff72a8c9ffc9",
   "metadata": {},
   "outputs": [],
   "source": [
    "ripeasgroups2 = ripeas.groupby('sponsoring-org').agg({'aut-num':list}).reset_index().rename(columns={'sponsoring-org':'org'})"
   ]
  },
  {
   "cell_type": "code",
   "execution_count": null,
   "id": "2ee7efa7-fb2d-40e6-a8e3-11ae86dedc18",
   "metadata": {},
   "outputs": [],
   "source": [
    "ripeasgroups = ripeasgroups1.merge(ripeasgroups2, on='org', how='outer')"
   ]
  },
  {
   "cell_type": "code",
   "execution_count": null,
   "id": "343a3186-4488-439a-b3d5-21ca465871f3",
   "metadata": {},
   "outputs": [],
   "source": [
    "def combine_autnums(x):\n",
    "    if isinstance(x['aut-num_x'], float):\n",
    "        return x['aut-num_y']\n",
    "    elif isinstance(x['aut-num_y'], float):\n",
    "        return x['aut-num_x']\n",
    "    else:\n",
    "        return list(set(x['aut-num_x'] + x['aut-num_y']))"
   ]
  },
  {
   "cell_type": "code",
   "execution_count": null,
   "id": "27a1e82f-506d-4cbb-8b3e-779f01371cfa",
   "metadata": {},
   "outputs": [],
   "source": [
    "ripeasgroups['aut-num'] = ripeasgroups.apply(combine_autnums, axis=1)"
   ]
  },
  {
   "cell_type": "code",
   "execution_count": null,
   "id": "52fd817a-0a4f-4937-a6dd-e47fa1f6837e",
   "metadata": {},
   "outputs": [],
   "source": [
    "allocated = allocated.merge(ripeasgroups[['org', 'aut-num']], how='left')"
   ]
  },
  {
   "cell_type": "code",
   "execution_count": null,
   "id": "f74cbe67-4f21-477a-9992-b9762d1d23bb",
   "metadata": {
    "scrolled": true
   },
   "outputs": [],
   "source": [
    "allocated"
   ]
  },
  {
   "cell_type": "markdown",
   "id": "3d731eda-1361-4837-b9ed-ad8dac27969a",
   "metadata": {},
   "source": [
    "# find leaf nodes, suballocated PA or assigned PA"
   ]
  },
  {
   "cell_type": "code",
   "execution_count": null,
   "id": "c5a0e5b9-199c-48c1-800f-de44429d51fc",
   "metadata": {},
   "outputs": [],
   "source": [
    "def is_leaf(prefix):\n",
    "    res = rtree.search_covered(prefix)\n",
    "    if len(res) == 1:\n",
    "        return True\n",
    "    return False"
   ]
  },
  {
   "cell_type": "code",
   "execution_count": null,
   "id": "4c5e3f95-8ea6-406c-84ab-68a2207e08ab",
   "metadata": {},
   "outputs": [],
   "source": [
    "tree['leaf'] = tree['prefix'].apply(is_leaf)"
   ]
  },
  {
   "cell_type": "code",
   "execution_count": null,
   "id": "1e30f3e6-92b8-43c0-8876-3ab5fec7f052",
   "metadata": {},
   "outputs": [],
   "source": [
    "tree['leaf'].value_counts()"
   ]
  },
  {
   "cell_type": "code",
   "execution_count": null,
   "id": "ef0f1908-1d1a-43b1-b62a-cb6c626c89cd",
   "metadata": {},
   "outputs": [],
   "source": [
    "leafs = tree[(tree.leaf == True) & tree.status.isin(['SUB-ALLOCATED PA', 'ASSIGNED PA'])]"
   ]
  },
  {
   "cell_type": "code",
   "execution_count": null,
   "id": "6d457d6a-a568-4e46-9624-f416af0329b5",
   "metadata": {},
   "outputs": [],
   "source": [
    "len(leafs)"
   ]
  },
  {
   "cell_type": "markdown",
   "id": "196c7123-d095-433d-beb7-f65ca6cec7b4",
   "metadata": {},
   "source": [
    "# find root of leaf"
   ]
  },
  {
   "cell_type": "code",
   "execution_count": null,
   "id": "82cc7246-2350-4705-a88a-6df9a651d89d",
   "metadata": {},
   "outputs": [],
   "source": [
    "def find_root(prefix):\n",
    "    curr = rtree.search_exact(prefix)\n",
    "    while curr.parent and curr.parent.prefix != '0.0.0.0/0':\n",
    "        curr = curr.parent\n",
    "    return curr.prefix"
   ]
  },
  {
   "cell_type": "code",
   "execution_count": null,
   "id": "787de0f1-8f92-4ad1-b1d4-09a2ca7c9c90",
   "metadata": {},
   "outputs": [],
   "source": [
    "leafs['root'] = leafs['prefix'].apply(find_root)"
   ]
  },
  {
   "cell_type": "code",
   "execution_count": null,
   "id": "02aae118-7235-4cdd-9365-b233b277f957",
   "metadata": {},
   "outputs": [],
   "source": [
    "allocated_descr = dict(zip(allocated['prefix'], allocated['descr']))"
   ]
  },
  {
   "cell_type": "code",
   "execution_count": null,
   "id": "120378f7-69ce-4784-af00-1f92c26de6ce",
   "metadata": {},
   "outputs": [],
   "source": [
    "leafs"
   ]
  },
  {
   "cell_type": "markdown",
   "id": "9e51f2a2-3b60-44d0-a6b6-cb08e8049993",
   "metadata": {},
   "source": [
    "# find BGP origin of leaf prefix"
   ]
  },
  {
   "cell_type": "code",
   "execution_count": null,
   "id": "b8578ea1-3058-4748-8fae-49523ea74aaf",
   "metadata": {},
   "outputs": [],
   "source": [
    "bgptree = radix.Radix()\n",
    "\n",
    "# Path to your prefix2as dataset\n",
    "with gzip.open('YOUR BGP DATASET HERE', 'rt') as file:\n",
    "    for line in file:\n",
    "        data = line.strip().split()\n",
    "        pfx = data[0]\n",
    "        asns = []\n",
    "        for i in data[1].split('_'):\n",
    "            for j in i.split(','):\n",
    "                asns.append('AS'+j)\n",
    "        node = bgptree.add(pfx)\n",
    "        node.data['asn'] = asns"
   ]
  },
  {
   "cell_type": "code",
   "execution_count": null,
   "id": "bba43991-d1fe-4b07-8301-be20f3aef24a",
   "metadata": {},
   "outputs": [],
   "source": [
    "def find_exact_origin(prefix):\n",
    "    rnode = bgptree.search_exact(prefix)\n",
    "    if rnode:\n",
    "        return rnode.data['asn']\n",
    "    return None"
   ]
  },
  {
   "cell_type": "code",
   "execution_count": null,
   "id": "3f796807-1422-4ca1-a1db-9492226963fe",
   "metadata": {},
   "outputs": [],
   "source": [
    "leafs['exact_origin'] = leafs['prefix'].apply(find_exact_origin)"
   ]
  },
  {
   "cell_type": "code",
   "execution_count": null,
   "id": "8ba30ad2-e5c0-42e8-8a82-80156bf3a623",
   "metadata": {},
   "outputs": [],
   "source": [
    "print(len(leafs[~pd.isnull(leafs.exact_origin)]), len(leafs))"
   ]
  },
  {
   "cell_type": "code",
   "execution_count": null,
   "id": "7f698039-bfc8-46d9-ba5f-5aaf7176bc48",
   "metadata": {},
   "outputs": [],
   "source": [
    "leafs['root_origin'] = leafs['root'].apply(find_exact_origin)"
   ]
  },
  {
   "cell_type": "code",
   "execution_count": null,
   "id": "da117f6a-2ca8-4381-8de9-e970e3905e89",
   "metadata": {},
   "outputs": [],
   "source": [
    "leafs"
   ]
  },
  {
   "cell_type": "markdown",
   "id": "e8e139b2-3a32-4167-93cc-f366d8a80830",
   "metadata": {},
   "source": [
    "# Group 3: Child in BGP, parent not in BGP"
   ]
  },
  {
   "cell_type": "code",
   "execution_count": null,
   "id": "95c535cd-de64-41b7-9870-e936cd9b289f",
   "metadata": {},
   "outputs": [],
   "source": [
    "c1 = leafs[(~pd.isnull(leafs.exact_origin)) & (pd.isnull(leafs.root_origin))]"
   ]
  },
  {
   "cell_type": "code",
   "execution_count": null,
   "id": "a750dc48-c9ce-43ba-b8ba-3420a836b437",
   "metadata": {},
   "outputs": [],
   "source": [
    "c1"
   ]
  },
  {
   "cell_type": "code",
   "execution_count": null,
   "id": "5cf37840-1f7b-49bb-98d9-80bb308535e7",
   "metadata": {},
   "outputs": [],
   "source": [
    "c1 = c1.merge(allocated[['prefix', 'org-name', 'aut-num']].rename(columns={'prefix': 'root'}))"
   ]
  },
  {
   "cell_type": "markdown",
   "id": "8daf0d94-8ba6-4459-80f6-4d7ac49eb65d",
   "metadata": {},
   "source": [
    "## check if parent assigned ASN is related to child BGP origin AS"
   ]
  },
  {
   "cell_type": "code",
   "execution_count": null,
   "id": "41941583-a741-4c87-9926-ac9221e02c92",
   "metadata": {},
   "outputs": [],
   "source": [
    "c1['sibling'] = c1.apply(lambda x: check_as2org(x['exact_origin'], x['aut-num']), axis=1)"
   ]
  },
  {
   "cell_type": "code",
   "execution_count": null,
   "id": "685533ae-d655-4576-882f-cfe257677bb9",
   "metadata": {},
   "outputs": [],
   "source": [
    "c1['cp'] = c1.apply(lambda x: check_asrel(x['exact_origin'], x['aut-num']), axis=1)"
   ]
  },
  {
   "cell_type": "code",
   "execution_count": null,
   "id": "b14dad81-ee47-4011-87e5-3ebadc3eab09",
   "metadata": {},
   "outputs": [],
   "source": [
    "c1infer = c1[(c1.sibling == False) & (c1.cp == False)]"
   ]
  },
  {
   "cell_type": "code",
   "execution_count": null,
   "id": "9fa8bec6-2eaa-4c9e-807e-88da5a0a9b11",
   "metadata": {
    "scrolled": true
   },
   "outputs": [],
   "source": [
    "c1infer"
   ]
  },
  {
   "cell_type": "markdown",
   "id": "cc5b319a-b3cf-4545-bbc2-64132b87a127",
   "metadata": {},
   "source": [
    "# Group 4: Both in BGP, unrelated"
   ]
  },
  {
   "cell_type": "code",
   "execution_count": null,
   "id": "66c47772-ba37-4e30-bddc-952b3993318d",
   "metadata": {},
   "outputs": [],
   "source": [
    "c2 = leafs[(~pd.isnull(leafs.exact_origin)) & (~pd.isnull(leafs.root_origin))]\n",
    "c2 = c2.merge(allocated[['prefix', 'org-name', 'aut-num']].rename(columns={'prefix': 'root'}))"
   ]
  },
  {
   "cell_type": "code",
   "execution_count": null,
   "id": "86ab6558-33d2-4ef3-b876-e6d9da3944fc",
   "metadata": {},
   "outputs": [],
   "source": [
    "c2['aut_sibling'] = c2.apply(lambda x: check_as2org(x['exact_origin'], x['aut-num']), axis=1)\n",
    "c2['aut_cp'] = c2.apply(lambda x: check_asrel(x['exact_origin'], x['aut-num']), axis=1)"
   ]
  },
  {
   "cell_type": "code",
   "execution_count": null,
   "id": "d807d775-23ce-4d25-ab51-60ecf18b8546",
   "metadata": {},
   "outputs": [],
   "source": [
    "c2['bgp_sibling'] = c2.apply(lambda x: check_as2org(x['exact_origin'], x['root_origin']), axis=1)\n",
    "c2['bgp_cp'] = c2.apply(lambda x: check_asrel(x['exact_origin'], x['root_origin']), axis=1)"
   ]
  },
  {
   "cell_type": "code",
   "execution_count": null,
   "id": "10f157ae-5a83-43ef-8e00-20b6dd21430a",
   "metadata": {},
   "outputs": [],
   "source": [
    "c2infer = c2[(c2.aut_sibling == False) & (c2.aut_cp == False) & (c2.bgp_sibling == False) & (c2.bgp_cp == False)]"
   ]
  },
  {
   "cell_type": "code",
   "execution_count": null,
   "id": "2c2a9f33-b015-4d93-9e06-b65b2d5ddc18",
   "metadata": {
    "scrolled": true
   },
   "outputs": [],
   "source": [
    "c2infer"
   ]
  },
  {
   "cell_type": "markdown",
   "id": "93368219-ee8a-4c94-8361-d2ce192cc005",
   "metadata": {},
   "source": [
    "# Group 1: Neither in BGP"
   ]
  },
  {
   "cell_type": "code",
   "execution_count": null,
   "id": "d50292fe-19a1-46b4-9cc3-8546e8712728",
   "metadata": {},
   "outputs": [],
   "source": [
    "c3 = leafs[(pd.isnull(leafs.exact_origin)) & (pd.isnull(leafs.root_origin))]"
   ]
  },
  {
   "cell_type": "code",
   "execution_count": null,
   "id": "3793c0b1-bacb-43c6-acc6-63be60c96f32",
   "metadata": {
    "scrolled": true
   },
   "outputs": [],
   "source": [
    "c3"
   ]
  },
  {
   "cell_type": "markdown",
   "id": "1925d5dd-ca38-4783-ac37-d5de3330d9dc",
   "metadata": {},
   "source": [
    "# Group 2: child not in BGP, parent in BGP"
   ]
  },
  {
   "cell_type": "code",
   "execution_count": null,
   "id": "b613fd83-d14b-4b4d-bb97-ce708f29a630",
   "metadata": {},
   "outputs": [],
   "source": [
    "c4 = leafs[(pd.isnull(leafs.exact_origin)) & (~pd.isnull(leafs.root_origin))]"
   ]
  },
  {
   "cell_type": "code",
   "execution_count": null,
   "id": "8dd9e6d1-fd3c-49c1-991f-3cc8af9bd015",
   "metadata": {},
   "outputs": [],
   "source": [
    "c4"
   ]
  },
  {
   "cell_type": "markdown",
   "id": "508cc12e-3507-48b7-8ee7-c4e01c15553d",
   "metadata": {},
   "source": [
    "# All categories: stats describe"
   ]
  },
  {
   "cell_type": "code",
   "execution_count": null,
   "id": "75aeace1-f7d0-4b2b-9168-4e1cfe7465a3",
   "metadata": {},
   "outputs": [],
   "source": [
    "print('Total:', len(leafs))\n",
    "print('Group 1: Unused:', len(c3))\n",
    "print('Group 2: Aggregated Customer:', len(c4))\n",
    "print('Group 3: ISP customer', len(c1) - len(c1infer), 'leased prefixes:', len(c1infer))\n",
    "print('Group 4: Delegated customer', len(c2) - len(c2infer), 'leased prefixes:', len(c2infer))"
   ]
  },
  {
   "cell_type": "markdown",
   "id": "53c3992a-8960-4554-b8f2-c7eb19c1e613",
   "metadata": {},
   "source": [
    "# Inferred leases"
   ]
  },
  {
   "cell_type": "code",
   "execution_count": null,
   "id": "4ac662be-7e29-414a-9110-7b00f84c8138",
   "metadata": {},
   "outputs": [],
   "source": [
    "ripe_inferred_lease = pd.concat([c1infer, c2infer])"
   ]
  },
  {
   "cell_type": "code",
   "execution_count": null,
   "id": "8dd807d5-9a93-4be5-97db-1800687dba3b",
   "metadata": {},
   "outputs": [],
   "source": [
    "leased_prefix = set(ripe_inferred_lease['prefix'])"
   ]
  },
  {
   "cell_type": "code",
   "execution_count": null,
   "id": "94af5a3b-cb9c-4e78-92e3-6116cd4ad620",
   "metadata": {},
   "outputs": [],
   "source": [
    "ripe_inferred_lease['country'].value_counts()[:20]"
   ]
  },
  {
   "cell_type": "code",
   "execution_count": null,
   "id": "c2cd3b86-a290-4f95-943b-26164c4e1e92",
   "metadata": {},
   "outputs": [],
   "source": [
    "ripe_inferred_lease = ripe_inferred_lease.merge(allocated[['prefix', 'country']], left_on=['root'], right_on=['prefix'], suffixes=('', '_root'))"
   ]
  },
  {
   "cell_type": "code",
   "execution_count": null,
   "id": "ec72a19e-87b4-4475-a39e-b17201db7794",
   "metadata": {},
   "outputs": [],
   "source": [
    "ripe_inferred_lease[ripe_inferred_lease['org-name'] == 'Resilans AB']['country'].nunique()"
   ]
  },
  {
   "cell_type": "code",
   "execution_count": null,
   "id": "65567597-65fa-4aa8-bc21-2dd95a87346c",
   "metadata": {},
   "outputs": [],
   "source": [
    "ripe_inferred_lease['out_of_country'] = ripe_inferred_lease['country'] != ripe_inferred_lease['country_root']"
   ]
  },
  {
   "cell_type": "code",
   "execution_count": null,
   "id": "06c2e76d-8527-496f-a868-b3ee5f1e1fe0",
   "metadata": {},
   "outputs": [],
   "source": [
    "ripe_inferred_lease['out_of_country'].value_counts()"
   ]
  },
  {
   "cell_type": "code",
   "execution_count": null,
   "id": "7cbf8108-1083-4376-870b-8a7e3cb19a51",
   "metadata": {},
   "outputs": [],
   "source": [
    "ripe_inferred_lease[ripe_inferred_lease.out_of_country]['country'].value_counts()[:20]"
   ]
  },
  {
   "cell_type": "markdown",
   "id": "515a1181-3960-4dbf-9f37-0fa163d5dbce",
   "metadata": {},
   "source": [
    "## Top IP Holders"
   ]
  },
  {
   "cell_type": "code",
   "execution_count": null,
   "id": "c94a6574-2fd6-464d-a6f4-fa6ad34816f5",
   "metadata": {},
   "outputs": [],
   "source": [
    "ripe_inferred_lease['org-name'].value_counts()[:10]"
   ]
  },
  {
   "cell_type": "markdown",
   "id": "db76e70b-cd6f-46e9-9935-0bc4944032ac",
   "metadata": {},
   "source": [
    "## Top Originator"
   ]
  },
  {
   "cell_type": "code",
   "execution_count": null,
   "id": "59681cec-d356-497a-ab8d-817c405db01b",
   "metadata": {},
   "outputs": [],
   "source": [
    "originator = pd.DataFrame(ripe_inferred_lease['exact_origin'].explode().value_counts().reset_index())"
   ]
  },
  {
   "cell_type": "code",
   "execution_count": null,
   "id": "08137595-93d2-4638-bb19-40041e55af6f",
   "metadata": {},
   "outputs": [],
   "source": [
    "originator['org'] = originator['exact_origin'].apply(to_org)"
   ]
  },
  {
   "cell_type": "code",
   "execution_count": null,
   "id": "16387188-5a4b-4a95-941b-ad1e700f1438",
   "metadata": {},
   "outputs": [],
   "source": [
    "originator[:20]"
   ]
  },
  {
   "cell_type": "markdown",
   "id": "1b53d0cc-d569-4f3c-a275-9d7b469ba33d",
   "metadata": {},
   "source": [
    "## Top maintainer"
   ]
  },
  {
   "cell_type": "code",
   "execution_count": null,
   "id": "d4a5713a-af78-4935-9aa3-5802a63a1b22",
   "metadata": {},
   "outputs": [],
   "source": [
    "mnts = ripe_inferred_lease['mnt-by'].apply(lambda x: x.split('\\n')).explode().value_counts().reset_index()"
   ]
  },
  {
   "cell_type": "code",
   "execution_count": null,
   "id": "7c7c8c04-d29e-4092-8371-fdc1136b9457",
   "metadata": {},
   "outputs": [],
   "source": [
    "orgdict = defaultdict(set)\n",
    "for a,b,c in zip(ripeorg['org-name'], ripeorg['mnt-ref'], ripeorg['mnt-by']):\n",
    "    for i in b.split('\\n'):\n",
    "        if i != 'RIPE-NCC-RIS-MNT' and i != 'RIPE-NCC-HM-MNT':\n",
    "            orgdict[i].add(a)\n",
    "    for i in c.split('\\n'):\n",
    "        if i != 'RIPE-NCC-RIS-MNT' and i != 'RIPE-NCC-HM-MNT':\n",
    "            orgdict[i].add(a)"
   ]
  },
  {
   "cell_type": "code",
   "execution_count": null,
   "id": "1446332c-d476-49fc-a67f-5343d20300ae",
   "metadata": {},
   "outputs": [],
   "source": [
    "mnts['org'] = mnts['mnt-by'].apply(lambda x: orgdict[x])"
   ]
  },
  {
   "cell_type": "code",
   "execution_count": null,
   "id": "301ab9d0-64fc-4fb5-8cbb-7654c3337b35",
   "metadata": {
    "scrolled": true
   },
   "outputs": [],
   "source": [
    "mnts[:20]"
   ]
  },
  {
   "cell_type": "markdown",
   "id": "44d8666b-8766-4889-b7d2-af17bd839b4d",
   "metadata": {},
   "source": [
    "# Reference Dataset: RIPE Broker Leased Prefixes"
   ]
  },
  {
   "cell_type": "code",
   "execution_count": null,
   "id": "8ac61d8e-864e-427c-a0f5-0a6bf8f0f015",
   "metadata": {},
   "outputs": [],
   "source": [
    "brokers = []\n",
    "with open('recognized_brokers_ripe.txt', 'rt') as f:\n",
    "    for line in f:\n",
    "        brokers.append(line.strip().upper().replace('\\\"', ''))"
   ]
  },
  {
   "cell_type": "code",
   "execution_count": null,
   "id": "829f6dde-263b-49f9-a3fc-3b91176a865c",
   "metadata": {},
   "outputs": [],
   "source": [
    "ripeorg['org-name'] = ripeorg['org-name'].apply(lambda x: x.upper().replace('\\\"', ''))"
   ]
  },
  {
   "cell_type": "code",
   "execution_count": null,
   "id": "22eff4b3-91b7-439d-ad6d-2cec08dde145",
   "metadata": {},
   "outputs": [],
   "source": [
    "ripeorg[ripeorg['org-name'].isin(brokers)]['org-name'].nunique()"
   ]
  },
  {
   "cell_type": "code",
   "execution_count": null,
   "id": "a5f15a91-61eb-45cb-a068-f783c8de7d9d",
   "metadata": {},
   "outputs": [],
   "source": [
    "org_to_check = set(brokers) - set(ripeorg[ripeorg['org-name'].isin(brokers)]['org-name'].unique())"
   ]
  },
  {
   "cell_type": "code",
   "execution_count": null,
   "id": "f164341f-4aef-40ca-b1ed-e2239fe61a27",
   "metadata": {},
   "outputs": [],
   "source": [
    "orgnames = ['ADDREX, INC.',\n",
    "           'CLAUS PLACHETKA TRADING AS AIPI E. K.',\n",
    "           'ALFA TELECOM S.R.O.',\n",
    "           'ALFA TELECOM CJSC',\n",
    "           'ALFA TELECOM LTD.',\n",
    "           'ALPHA INFOLAB, INC.',\n",
    "           'ASR-E DANESH AFZAR COMPANY (PRIVATE J.S.)',\n",
    "           'AZERONLINE LTD JOINT ENTERPRISE',\n",
    "           'BLUE NETWORKS TECHNOLOGIES SARL',\n",
    "           'BRANDER GROUP INC.',\n",
    "           'E-MONEY NET DEVELOPERS 24 COMPANY PRIVATE JOINT STOCK',\n",
    "           'FIBERCLI PROYECTOS E INNOVACION S.L.',\n",
    "           'IP COM LTD',\n",
    "           'GCX US LLC',\n",
    "           'I7 LLC',\n",
    "           'INANA GROUP LLC',\n",
    "           'INTELLIGENT ADVANCED SOLUTIONS S.R.O',\n",
    "           'IPWAY LLC',\n",
    "           'NATIONWIDE COMPUTER SYSTEMS, INC. TRADING AS IPTRADING.COM',\n",
    "           'IT-SERVICE LLC',\n",
    "           'KONNGRUENT MANAGEMENT S.R.L.',\n",
    "           'VLADIMIR KORABLEV',\n",
    "           'LEADERTELECOM LTD.',\n",
    "           'LEADERTELECOM B.V.',\n",
    "           'LLC LIR UKRAINE',\n",
    "           'NETERRA LTD.',\n",
    "           'NITRONET SP. Z O.O.',\n",
    "           'PARSUN NETWORK SOLUTIONS PTY LTD',\n",
    "           'PREFIX BROKER BV',\n",
    "           'RIOTCLOUDS, INC.',\n",
    "           'SEVEN NETWORKING UK LTD',\n",
    "           'THERECOM LTD',\n",
    "           'VOLDETA UAB',\n",
    "           'ULF KIEBER',\n",
    "           'WINDMILL TELECOM OU',\n",
    "           'XTOM OU',\n",
    "             'XTOM GMBH',\n",
    "             'XTOM GLOBAL TELECOM INC.',\n",
    "         'XTOM PTY LTD',\n",
    "         'XTOM PTY LTD',\n",
    "         'XTOM GMBH',\n",
    "         'XTOM JAPAN CO., LTD.']"
   ]
  },
  {
   "cell_type": "code",
   "execution_count": null,
   "id": "e066a641-ae50-4304-b654-3e6b1ae5ec63",
   "metadata": {},
   "outputs": [],
   "source": [
    "brokers += orgnames"
   ]
  },
  {
   "cell_type": "code",
   "execution_count": null,
   "id": "63193afb-8a44-4dd5-ad6d-f284132c7b62",
   "metadata": {},
   "outputs": [],
   "source": [
    "ripeorg[ripeorg['org-name'].isin(brokers)]['org-name'].nunique()"
   ]
  },
  {
   "cell_type": "code",
   "execution_count": null,
   "id": "d6ef49ec-e031-43d4-8f0e-3281d57c83a4",
   "metadata": {},
   "outputs": [],
   "source": [
    "brokermnt = set()\n",
    "for i in ripeorg[ripeorg['org-name'].isin(brokers)]['mnt-by']:\n",
    "    for j in i.strip().split('\\n'):\n",
    "        if j.strip() != 'RIPE-NCC-HM-MNT':\n",
    "            brokermnt.add(j.strip())\n",
    "for i in ripeorg[ripeorg['org-name'].isin(brokers)]['mnt-ref']:\n",
    "    for j in i.strip().split('\\n'):\n",
    "        if j.strip() != 'RIPE-NCC-HM-MNT':\n",
    "            brokermnt.add(j.strip())"
   ]
  },
  {
   "cell_type": "code",
   "execution_count": null,
   "id": "6318f81d-7213-463e-ac89-7ebf4e0f8e13",
   "metadata": {},
   "outputs": [],
   "source": [
    "len(brokermnt)"
   ]
  },
  {
   "cell_type": "code",
   "execution_count": null,
   "id": "f93d60d1-4e5f-449a-9377-2db562f8c48d",
   "metadata": {},
   "outputs": [],
   "source": [
    "brokerstr = '|'.join(brokermnt)"
   ]
  },
  {
   "cell_type": "code",
   "execution_count": null,
   "id": "e64ac92a-b440-47a5-ac69-284b1376f69e",
   "metadata": {
    "scrolled": true
   },
   "outputs": [],
   "source": [
    "tree[tree['mnt-by'].str.contains(brokerstr) & (tree.status == 'LEGACY')]"
   ]
  },
  {
   "cell_type": "code",
   "execution_count": null,
   "id": "db6f13e6-7074-4936-8540-21d93afb7a57",
   "metadata": {},
   "outputs": [],
   "source": [
    "def check_mntner(x):\n",
    "    x = x.strip().split('\\n')\n",
    "    x = set([i.strip() for i in x])\n",
    "    if len(x.intersection(brokermnt)) > 0:\n",
    "        return True\n",
    "    return False"
   ]
  },
  {
   "cell_type": "code",
   "execution_count": null,
   "id": "2d7cbf4f-96d4-4721-bbf7-408fa5aa3cad",
   "metadata": {},
   "outputs": [],
   "source": [
    "leafs['true_label'] = leafs['mnt-by'].apply(check_mntner)"
   ]
  },
  {
   "cell_type": "code",
   "execution_count": null,
   "id": "154ac666-5224-403d-8a28-381a149a8ada",
   "metadata": {
    "scrolled": true
   },
   "outputs": [],
   "source": [
    "tp = leafs[(leafs.true_label == True) & ~leafs.prefix.isin(c1[~c1.prefix.isin(c1infer.prefix)].prefix) & ~leafs.prefix.isin(c2[~c2.prefix.isin(c2infer.prefix)].prefix)]"
   ]
  },
  {
   "cell_type": "markdown",
   "id": "8d12a046-c168-4689-a319-01db0d4cf8f2",
   "metadata": {},
   "source": [
    "## Caution: Not all broker prefixes are leased. Some brokers are also ISPs"
   ]
  },
  {
   "cell_type": "code",
   "execution_count": null,
   "id": "3d2a5345-12d2-46d1-a977-4f1293775e0d",
   "metadata": {
    "scrolled": true
   },
   "outputs": [],
   "source": [
    "tp"
   ]
  }
 ],
 "metadata": {
  "kernelspec": {
   "display_name": "Python 3 (ipykernel)",
   "language": "python",
   "name": "python3"
  },
  "language_info": {
   "codemirror_mode": {
    "name": "ipython",
    "version": 3
   },
   "file_extension": ".py",
   "mimetype": "text/x-python",
   "name": "python",
   "nbconvert_exporter": "python",
   "pygments_lexer": "ipython3",
   "version": "3.9.1"
  },
  "widgets": {
   "application/vnd.jupyter.widget-state+json": {
    "state": {},
    "version_major": 2,
    "version_minor": 0
   }
  }
 },
 "nbformat": 4,
 "nbformat_minor": 5
}
